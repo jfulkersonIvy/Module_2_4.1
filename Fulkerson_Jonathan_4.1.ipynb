{
 "cells": [
  {
   "cell_type": "code",
   "execution_count": 1,
   "id": "971d3df6",
   "metadata": {},
   "outputs": [],
   "source": [
    "secret = 7"
   ]
  },
  {
   "cell_type": "code",
   "execution_count": 2,
   "id": "30d0d062",
   "metadata": {},
   "outputs": [],
   "source": [
    "guess = 5"
   ]
  },
  {
   "cell_type": "code",
   "execution_count": 9,
   "id": "f7bfd97e",
   "metadata": {},
   "outputs": [
    {
     "name": "stdout",
     "output_type": "stream",
     "text": [
      "too low\n"
     ]
    }
   ],
   "source": [
    "if guess == secret:\n",
    "    print(\"just right\")\n",
    "elif guess > secret:\n",
    "    print(\"too high\")\n",
    "else:\n",
    "    print(\"too low\")"
   ]
  },
  {
   "cell_type": "code",
   "execution_count": null,
   "id": "671e10a4",
   "metadata": {},
   "outputs": [],
   "source": []
  }
 ],
 "metadata": {
  "kernelspec": {
   "display_name": "Python 3 (ipykernel)",
   "language": "python",
   "name": "python3"
  },
  "language_info": {
   "codemirror_mode": {
    "name": "ipython",
    "version": 3
   },
   "file_extension": ".py",
   "mimetype": "text/x-python",
   "name": "python",
   "nbconvert_exporter": "python",
   "pygments_lexer": "ipython3",
   "version": "3.9.12"
  }
 },
 "nbformat": 4,
 "nbformat_minor": 5
}
