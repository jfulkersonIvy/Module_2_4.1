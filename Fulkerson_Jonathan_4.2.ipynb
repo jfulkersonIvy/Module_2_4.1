{
 "cells": [
  {
   "cell_type": "code",
   "execution_count": 1,
   "id": "2d6f8b6a",
   "metadata": {},
   "outputs": [],
   "source": [
    "small = True"
   ]
  },
  {
   "cell_type": "code",
   "execution_count": 2,
   "id": "a66a6f80",
   "metadata": {},
   "outputs": [],
   "source": [
    "green = False"
   ]
  },
  {
   "cell_type": "code",
   "execution_count": 3,
   "id": "044f2983",
   "metadata": {},
   "outputs": [
    {
     "name": "stdout",
     "output_type": "stream",
     "text": [
      "that is a cherry\n"
     ]
    }
   ],
   "source": [
    "if small == True:\n",
    "    if green == True:\n",
    "        print(\"that is a pea\")\n",
    "    else:\n",
    "        print(\"that is a cherry\")\n",
    "else:\n",
    "    if green == True:\n",
    "        print(\"that is a watermelon\")\n",
    "    else:\n",
    "        print(\"that is a pumpkin\")"
   ]
  },
  {
   "cell_type": "code",
   "execution_count": null,
   "id": "31720d84",
   "metadata": {},
   "outputs": [],
   "source": []
  }
 ],
 "metadata": {
  "kernelspec": {
   "display_name": "Python 3 (ipykernel)",
   "language": "python",
   "name": "python3"
  },
  "language_info": {
   "codemirror_mode": {
    "name": "ipython",
    "version": 3
   },
   "file_extension": ".py",
   "mimetype": "text/x-python",
   "name": "python",
   "nbconvert_exporter": "python",
   "pygments_lexer": "ipython3",
   "version": "3.9.12"
  }
 },
 "nbformat": 4,
 "nbformat_minor": 5
}
